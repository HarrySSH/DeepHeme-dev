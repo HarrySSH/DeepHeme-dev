{
 "cells": [
  {
   "cell_type": "code",
   "execution_count": 1,
   "metadata": {},
   "outputs": [],
   "source": [
    "import sys\n",
    "import os\n",
    "import pandas as pd\n",
    "import numpy as np\n",
    "import tqdm\n",
    "import shutil\n",
    "import glob\n",
    "\n",
    "tsv = pd.read_excel(open('/media/hdd3/harry/metadata/slide_scanning_tracker.xlsx', 'rb'),)\n",
    "\n",
    "def renamefunction(_slide):\n",
    "    if len(_slide.split(' - '))==2:\n",
    "        \n",
    "        string = _slide.split(' - ')[0].replace(';','_')\n",
    "        date = _slide.split(' - ')[1].split(' ')[0]\n",
    "        time = _slide.split(' - ')[1].split(' ')[1].split('.ndpi')[0]\n",
    "        convert = string+'_'+date+'_'+time+'.ndpi'\n",
    "        return convert\n",
    "    else:\n",
    "        assert 1==2, 'the name is not what we wanted' \n",
    "        \n",
    "def read_simple_file(file_dir, columns = ['specnum_formatted','accession_date','part_description']):\n",
    "    csv = pd.read_csv(file_dir, index_col= 0)\n",
    "    csv = csv[columns]\n",
    "    return csv\n",
    "\n",
    "H17 = read_simple_file('/media/hdd3/harry/metadata/H17-20230724.csv')\n",
    "H18 = read_simple_file('/media/hdd3/harry/metadata/H18-20230724.csv')\n",
    "H19 = read_simple_file('/media/hdd3/harry/metadata/H19-20230724.csv')\n",
    "H20 = read_simple_file('/media/hdd3/harry/metadata/H20-20230724.csv')\n",
    "H21 = read_simple_file('/media/hdd3/harry/metadata/H21-20230724.csv')\n",
    "H22 = read_simple_file('/media/hdd3/harry/metadata/H22-20230724.csv')\n",
    "H23 = read_simple_file('/media/hdd3/harry/metadata/H23-20230720.csv')\n",
    "\n",
    "Heme_dicts = {'H17':H17, 'H18':H18, 'H19':H19, 'H20':H20, 'H21':H21, 'H22':H22, 'H23':H23, }\n",
    "\n"
   ]
  },
  {
   "cell_type": "code",
   "execution_count": 1,
   "metadata": {},
   "outputs": [
    {
     "ename": "NameError",
     "evalue": "name 'tsv' is not defined",
     "output_type": "error",
     "traceback": [
      "\u001b[0;31m---------------------------------------------------------------------------\u001b[0m",
      "\u001b[0;31mNameError\u001b[0m                                 Traceback (most recent call last)",
      "Cell \u001b[0;32mIn[1], line 1\u001b[0m\n\u001b[0;32m----> 1\u001b[0m CLL_IDs\u001b[38;5;241m=\u001b[39m \u001b[43mtsv\u001b[49m[tsv[\u001b[38;5;124m'\u001b[39m\u001b[38;5;124mGeneral Dx\u001b[39m\u001b[38;5;124m'\u001b[39m]\u001b[38;5;241m.\u001b[39misin([\u001b[38;5;124m'\u001b[39m\u001b[38;5;124mCLL\u001b[39m\u001b[38;5;124m'\u001b[39m])][\u001b[38;5;124m'\u001b[39m\u001b[38;5;124mAccession Number\u001b[39m\u001b[38;5;124m'\u001b[39m]\u001b[38;5;241m.\u001b[39mtolist()\n\u001b[1;32m      2\u001b[0m \u001b[38;5;28mlen\u001b[39m(CLL_IDs)\n",
      "\u001b[0;31mNameError\u001b[0m: name 'tsv' is not defined"
     ]
    }
   ],
   "source": [
    "CLL_IDs= tsv[tsv['General Dx'].isin(['CLL'])]['Accession Number'].tolist()\n",
    "len(CLL_IDs)"
   ]
  },
  {
   "cell_type": "code",
   "execution_count": null,
   "metadata": {},
   "outputs": [],
   "source": []
  },
  {
   "cell_type": "code",
   "execution_count": 3,
   "metadata": {},
   "outputs": [
    {
     "name": "stderr",
     "output_type": "stream",
     "text": [
      "100%|█████████████████████████████████████| 4636/4636 [9:37:00<00:00,  7.47s/it]"
     ]
    },
    {
     "name": "stdout",
     "output_type": "stream",
     "text": [
      "                                      orig_name  \\\n",
      "0   H20-3443;S9;MSK8 - 2023-06-06 13.24.00.ndpi   \n",
      "1  H19-8542;S10;MSKC - 2023-05-12 13.47.21.ndpi   \n",
      "2  H19-4503;S15;MSKA - 2023-07-19 09.22.34.ndpi   \n",
      "3  H18-5245;S14;MSK3 - 2023-06-28 20.25.34.ndpi   \n",
      "4  H19-7669;S14;MSKF - 2023-05-12 13.35.13.ndpi   \n",
      "\n",
      "                                     new_name        date time_of_scan  \n",
      "0   H20-3443_S9_MSK8_2023-06-06_13.24.00.ndpi  2023-06-06     13.24.00  \n",
      "1  H19-8542_S10_MSKC_2023-05-12_13.47.21.ndpi  2023-05-12     13.47.21  \n",
      "2  H19-4503_S15_MSKA_2023-07-19_09.22.34.ndpi  2023-07-19     09.22.34  \n",
      "3  H18-5245_S14_MSK3_2023-06-28_20.25.34.ndpi  2023-06-28     20.25.34  \n",
      "4  H19-7669_S14_MSKF_2023-05-12_13.35.13.ndpi  2023-05-12     13.35.13  \n",
      "Find 41 cases\n",
      "Saving into CLL diseases\n"
     ]
    },
    {
     "name": "stderr",
     "output_type": "stream",
     "text": [
      "\n"
     ]
    }
   ],
   "source": [
    "# sorting the B-ALL diseases subset\n",
    "p = 0\n",
    "date = []\n",
    "time_of_scan = []\n",
    "new_name = []\n",
    "orig_name = []\n",
    "os.mkdir('/media/hdd3/harry/Slides_repo/CLL/')\n",
    "os.mkdir('/media/hdd3/harry/Slides_repo/CLL/slides')\n",
    "for _dir in tqdm.tqdm(os.listdir('/pesgisipth/NDPI/Heme/')):\n",
    "    if len(_dir.split(' - '))==2:\n",
    "        if 'H' in _dir:\n",
    "            renamed_name = renamefunction(_dir)\n",
    "            assess_ID = renamed_name.split('_')[0]\n",
    "            \n",
    "            time = assess_ID.split('-')[0]\n",
    "            if assess_ID in CLL_IDs:  \n",
    "                try:\n",
    "                    subset = Heme_dicts[time][Heme_dicts[time]['specnum_formatted']== assess_ID]\n",
    "                    assert subset.shape[0]>=1, 'The information could not be find. it might not be a BMA'\n",
    "                    date.append(_dir.split(' - ')[1].split(' ')[0])\n",
    "                    time_of_scan.append(_dir.split(' - ')[1].split(' ')[1].split('.ndpi')[0])\n",
    "                    orig_name.append(_dir)\n",
    "                    new_name.append(renamed_name)\n",
    "                    p = p + 1\n",
    "                    shutil.copy('/pesgisipth/NDPI/Heme/'+_dir, '/media/hdd3/harry/Slides_repo/CLL/slides/'+renamed_name)\n",
    "\n",
    "                except:\n",
    "                    pass\n",
    "data = orig_name\n",
    "  \n",
    "# Create the pandas DataFrame with column name is provided explicitly\n",
    "df = pd.DataFrame(data, columns=['orig_name'])\n",
    "df['new_name'] = new_name\n",
    "df['date'] = date\n",
    "df['time_of_scan'] = time_of_scan\n",
    "  \n",
    "# print dataframe.\n",
    "print(df.head())\n",
    "df.to_csv('/media/hdd3/harry/Slides_repo/CLL/table.csv')\n",
    "\n",
    "print('Find '+str(p)+' cases')\n",
    "print('Saving into CLL diseases')\n",
    "\n",
    "    #break\n",
    "#/media/hdd3/harry/Slides_repo"
   ]
  },
  {
   "cell_type": "code",
   "execution_count": 5,
   "metadata": {},
   "outputs": [
    {
     "name": "stdout",
     "output_type": "stream",
     "text": [
      "\u001b[0m\u001b[34;42mAML\u001b[0m/    \u001b[01;34mB_ALL\u001b[0m/  \u001b[01;34mCMML\u001b[0m/                                       \u001b[01;34mMastocytosis\u001b[0m/\r\n",
      "\u001b[01;34mAPML\u001b[0m/   \u001b[01;34mCLL\u001b[0m/    \u001b[01;32mH20_3789_S2_MSKD_2023-05-10_15.34.00.ndpi\u001b[0m*  \u001b[01;34mMDS\u001b[0m/\r\n",
      "\u001b[01;34mB-ALL\u001b[0m/  \u001b[01;34mCML\u001b[0m/    \u001b[01;34mHCL\u001b[0m/                                        \u001b[34;42mPlasma_cel_myeloma\u001b[0m/\r\n"
     ]
    }
   ],
   "source": [
    "ls /media/hdd4/harry/Slides_repo/"
   ]
  },
  {
   "cell_type": "code",
   "execution_count": 4,
   "metadata": {},
   "outputs": [],
   "source": [
    "cp ../HemeYolo/Classification/weights.ckpt ./"
   ]
  },
  {
   "cell_type": "code",
   "execution_count": null,
   "metadata": {},
   "outputs": [],
   "source": []
  },
  {
   "cell_type": "code",
   "execution_count": null,
   "metadata": {},
   "outputs": [],
   "source": []
  }
 ],
 "metadata": {
  "kernelspec": {
   "display_name": "hemeyolo",
   "language": "python",
   "name": "hemeyolo"
  },
  "language_info": {
   "codemirror_mode": {
    "name": "ipython",
    "version": 3
   },
   "file_extension": ".py",
   "mimetype": "text/x-python",
   "name": "python",
   "nbconvert_exporter": "python",
   "pygments_lexer": "ipython3",
   "version": "3.8.13"
  }
 },
 "nbformat": 4,
 "nbformat_minor": 4
}
