{
 "cells": [
  {
   "cell_type": "code",
   "execution_count": 3,
   "metadata": {},
   "outputs": [],
   "source": [
    "import sys\n",
    "import os\n",
    "import pandas as pd\n",
    "import numpy as np\n",
    "import tqdm\n",
    "import shutil\n",
    "import glob\n",
    "\n",
    "tsv = pd.read_excel(open('/media/hdd3/harry/metadata/slide_scanning_tracker.xlsx', 'rb'),)\n",
    "\n",
    "def renamefunction(_slide):\n",
    "    if len(_slide.split(' - '))==2:\n",
    "        \n",
    "        string = _slide.split(' - ')[0].replace(';','_')\n",
    "        date = _slide.split(' - ')[1].split(' ')[0]\n",
    "        time = _slide.split(' - ')[1].split(' ')[1].split('.ndpi')[0]\n",
    "        convert = string+'_'+date+'_'+time+'.ndpi'\n",
    "        return convert\n",
    "    else:\n",
    "        assert 1==2, 'the name is not what we wanted' \n",
    "        \n",
    "def read_simple_file(file_dir, columns = ['specnum_formatted','accession_date','part_description']):\n",
    "    csv = pd.read_csv(file_dir, index_col= 0)\n",
    "    csv = csv[columns]\n",
    "    return csv\n",
    "\n",
    "H17 = read_simple_file('/media/hdd3/harry/metadata/H17-20230724.csv')\n",
    "H18 = read_simple_file('/media/hdd3/harry/metadata/H18-20230724.csv')\n",
    "H19 = read_simple_file('/media/hdd3/harry/metadata/H19-20230724.csv')\n",
    "H20 = read_simple_file('/media/hdd3/harry/metadata/H20-20230724.csv')\n",
    "H21 = read_simple_file('/media/hdd3/harry/metadata/H21-20230724.csv')\n",
    "H22 = read_simple_file('/media/hdd3/harry/metadata/H22-20230724.csv')\n",
    "H23 = read_simple_file('/media/hdd3/harry/metadata/H23-20230720.csv')\n",
    "\n",
    "Heme_dicts = {'H17':H17, 'H18':H18, 'H19':H19, 'H20':H20, 'H21':H21, 'H22':H22, 'H23':H23, }\n",
    "\n"
   ]
  },
  {
   "cell_type": "code",
   "execution_count": 5,
   "metadata": {},
   "outputs": [
    {
     "data": {
      "text/plain": [
       "175"
      ]
     },
     "execution_count": 5,
     "metadata": {},
     "output_type": "execute_result"
    }
   ],
   "source": [
    "Ball_IDs= tsv[tsv['General Dx'].isin(['B-ALL'])]['Accession Number'].tolist()\n",
    "len(Ball_IDs)"
   ]
  },
  {
   "cell_type": "code",
   "execution_count": null,
   "metadata": {},
   "outputs": [],
   "source": []
  },
  {
   "cell_type": "code",
   "execution_count": 8,
   "metadata": {},
   "outputs": [
    {
     "name": "stderr",
     "output_type": "stream",
     "text": [
      "100%|████████████████████████████████████| 4636/4636 [16:25:25<00:00, 12.75s/it]"
     ]
    },
    {
     "name": "stdout",
     "output_type": "stream",
     "text": [
      "                                      orig_name  \\\n",
      "0   H22-391;S10;MSK1 - 2023-05-31 21.16.06.ndpi   \n",
      "1   H19-6670;S1;MSKC - 2023-05-24 18.54.31.ndpi   \n",
      "2   H22-1758;S9;MSK7 - 2023-05-26 20.04.06.ndpi   \n",
      "3   H22-7576;S1;MSK3 - 2023-06-06 13.52.39.ndpi   \n",
      "4  H19-9867;S10;MSKN - 2023-06-21 17.07.42.ndpi   \n",
      "\n",
      "                                     new_name        date time_of_scan  \n",
      "0   H22-391_S10_MSK1_2023-05-31_21.16.06.ndpi  2023-05-31     21.16.06  \n",
      "1   H19-6670_S1_MSKC_2023-05-24_18.54.31.ndpi  2023-05-24     18.54.31  \n",
      "2   H22-1758_S9_MSK7_2023-05-26_20.04.06.ndpi  2023-05-26     20.04.06  \n",
      "3   H22-7576_S1_MSK3_2023-06-06_13.52.39.ndpi  2023-06-06     13.52.39  \n",
      "4  H19-9867_S10_MSKN_2023-06-21_17.07.42.ndpi  2023-06-21     17.07.42  \n",
      "Find 449 cases\n",
      "Saving into b_ALL diseases\n"
     ]
    },
    {
     "name": "stderr",
     "output_type": "stream",
     "text": [
      "\n"
     ]
    }
   ],
   "source": [
    "# sorting the B-ALL diseases subset\n",
    "p = 0\n",
    "date = []\n",
    "time_of_scan = []\n",
    "new_name = []\n",
    "orig_name = []\n",
    "#os.mkdir('/media/hdd3/harry/Slides_repo/B_ALL/')\n",
    "#os.mkdir('/media/hdd3/harry/Slides_repo/B_ALL/slides')\n",
    "for _dir in tqdm.tqdm(os.listdir('/pesgisipth/NDPI/Heme/')):\n",
    "    if len(_dir.split(' - '))==2:\n",
    "        if 'H' in _dir:\n",
    "            renamed_name = renamefunction(_dir)\n",
    "            assess_ID = renamed_name.split('_')[0]\n",
    "            \n",
    "            time = assess_ID.split('-')[0]\n",
    "            if assess_ID in Ball_IDs:  \n",
    "                try:\n",
    "                    subset = Heme_dicts[time][Heme_dicts[time]['specnum_formatted']== assess_ID]\n",
    "                    assert subset.shape[0]>=1, 'The information could not be find. it might not be a BMA'\n",
    "                    date.append(_dir.split(' - ')[1].split(' ')[0])\n",
    "                    time_of_scan.append(_dir.split(' - ')[1].split(' ')[1].split('.ndpi')[0])\n",
    "                    orig_name.append(_dir)\n",
    "                    new_name.append(renamed_name)\n",
    "                    p = p + 1\n",
    "                    shutil.copy('/pesgisipth/NDPI/Heme/'+_dir, '/media/hdd3/harry/Slides_repo/B_ALL/slides/'+renamed_name)\n",
    "\n",
    "                except:\n",
    "                    pass\n",
    "data = orig_name\n",
    "  \n",
    "# Create the pandas DataFrame with column name is provided explicitly\n",
    "df = pd.DataFrame(data, columns=['orig_name'])\n",
    "df['new_name'] = new_name\n",
    "df['date'] = date\n",
    "df['time_of_scan'] = time_of_scan\n",
    "  \n",
    "# print dataframe.\n",
    "print(df.head())\n",
    "df.to_csv('/media/hdd3/harry/Slides_repo/B_ALL/table.csv')\n",
    "\n",
    "print('Find '+str(p)+' cases')\n",
    "print('Saving into b_ALL diseases')\n",
    "\n",
    "    #break\n",
    "#/media/hdd3/harry/Slides_repo"
   ]
  },
  {
   "cell_type": "code",
   "execution_count": null,
   "metadata": {},
   "outputs": [],
   "source": []
  }
 ],
 "metadata": {
  "kernelspec": {
   "display_name": "hemeyolo",
   "language": "python",
   "name": "hemeyolo"
  },
  "language_info": {
   "codemirror_mode": {
    "name": "ipython",
    "version": 3
   },
   "file_extension": ".py",
   "mimetype": "text/x-python",
   "name": "python",
   "nbconvert_exporter": "python",
   "pygments_lexer": "ipython3",
   "version": "3.8.13"
  }
 },
 "nbformat": 4,
 "nbformat_minor": 4
}
