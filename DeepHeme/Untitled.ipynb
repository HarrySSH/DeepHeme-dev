{
 "cells": [
  {
   "cell_type": "code",
   "execution_count": 9,
   "metadata": {},
   "outputs": [],
   "source": [
    "import os\n",
    "import multiprocessing\n",
    "import pandas as pd\n",
    "def get_image_files(latest = False):\n",
    "    \n",
    "    # Replace 'your_folder_path' with the actual path to the folder containing the images\n",
    "    folder_path = '/media/hdd3/harry/Slides_repo/Plasma_cel_myeloma/slides'\n",
    "    \n",
    "    \n",
    "    if latest:\n",
    "        image_files = []\n",
    "        table = pd.read_csv('/media/hdd3/harry/Slides_repo/Plasma_cel_myeloma/table.csv')\n",
    "        table['caseID'] = table['new_name'].apply(lambda x: x.split('_')[0]+'_'+x.split('_')[1]+'_'+x.split('_')[2])\n",
    "        lists = []\n",
    "        for _group in table.groupby('caseID'):\n",
    "            image_files.append(_group[1].sort_values(['date', 'time_of_scan'], ascending=False).iloc[0]['new_name'])\n",
    "    else:\n",
    "        image_files = [f for f in os.listdir(folder_path) if f.endswith('.ndpi') ]\n",
    "    patch_path = folder_path.replace('slides','patches')\n",
    "    return [(patch_path, folder_path, image_file) for image_file in image_files]\n",
    "\n",
    "def image_patching_function(save_destination, image_dic, image_dir):\n",
    "    os.system(f\"python Patching.py --save_destination {save_destination} --wsi_dir {image_dic} --wsi_name {image_dir}\" )\n",
    "#!python Patching.py --save_destination /media/hdd3/harry/Slides_repo/Plasma_cel_myeloma/patches/ --wsi_dir /media/hdd3/harry/Slides_repo/Plasma_cel_myeli"
   ]
  },
  {
   "cell_type": "code",
   "execution_count": null,
   "metadata": {},
   "outputs": [
    {
     "name": "stdout",
     "output_type": "stream",
     "text": [
      "wtf\n",
      "wtf\n"
     ]
    },
    {
     "name": "stderr",
     "output_type": "stream",
     "text": [
      "Traceback (most recent call last):\n",
      "  File \"Patching.py\", line 56, in <module>\n",
      "    generate_patches(slidepath=args.wsi_dir,\n",
      "  File \"Patching.py\", line 39, in generate_patches\n",
      "    Slide = openslide.OpenSlide(slide_path)\n",
      "  File \"/home/harry/.local/lib/python3.8/site-packages/openslide/__init__.py\", line 166, in __init__\n",
      "    self._osr = lowlevel.open(str(filename))\n",
      "  File \"/home/harry/.local/lib/python3.8/site-packages/openslide/lowlevel.py\", line 199, in _check_open\n",
      "    raise OpenSlideError(err)\n",
      "openslide.lowlevel.OpenSlideError: Can't validate JPEG for directory 0: Expected marker at 4295026891, found none\n",
      "\r",
      "  0%|          | 0/405 [00:00<?, ?it/s]"
     ]
    },
    {
     "name": "stdout",
     "output_type": "stream",
     "text": [
      "wtf\n",
      "wtf\n"
     ]
    },
    {
     "name": "stderr",
     "output_type": "stream",
     "text": [
      "\r",
      "  0%|          | 0/413 [00:00<?, ?it/s]Traceback (most recent call last):\n",
      "  File \"Patching.py\", line 56, in <module>\n",
      "    generate_patches(slidepath=args.wsi_dir,\n",
      "  File \"Patching.py\", line 39, in generate_patches\n",
      "    Slide = openslide.OpenSlide(slide_path)\n",
      "  File \"/home/harry/.local/lib/python3.8/site-packages/openslide/__init__.py\", line 166, in __init__\n",
      "    self._osr = lowlevel.open(str(filename))\n",
      "  File \"/home/harry/.local/lib/python3.8/site-packages/openslide/lowlevel.py\", line 199, in _check_open\n",
      "    raise OpenSlideError(err)\n",
      "openslide.lowlevel.OpenSlideError: Can't validate JPEG for directory 0: Expected marker at 4295026939, found none\n"
     ]
    },
    {
     "name": "stdout",
     "output_type": "stream",
     "text": [
      "wtf\n",
      "wtf\n",
      "wtf\n",
      "wtf\n"
     ]
    },
    {
     "name": "stderr",
     "output_type": "stream",
     "text": [
      "\r",
      "  0%|          | 0/413 [00:00<?, ?it/s]\r",
      "  0%|          | 0/405 [00:00<?, ?it/s]Traceback (most recent call last):\n",
      "  File \"Patching.py\", line 56, in <module>\n",
      "    generate_patches(slidepath=args.wsi_dir,\n",
      "  File \"Patching.py\", line 39, in generate_patches\n",
      "    Slide = openslide.OpenSlide(slide_path)\n",
      "  File \"/home/harry/.local/lib/python3.8/site-packages/openslide/__init__.py\", line 166, in __init__\n",
      "    self._osr = lowlevel.open(str(filename))\n",
      "  File \"/home/harry/.local/lib/python3.8/site-packages/openslide/lowlevel.py\", line 199, in _check_open\n",
      "    raise OpenSlideError(err)\n",
      "openslide.lowlevel.OpenSlideError: Can't validate JPEG for directory 0: Expected marker at 4295026913, found none\n",
      "\r",
      "  0%|          | 0/405 [00:00<?, ?it/s]"
     ]
    },
    {
     "name": "stdout",
     "output_type": "stream",
     "text": [
      "wtf\n",
      "wtf\n",
      "wtf\n",
      "wtf\n"
     ]
    },
    {
     "name": "stderr",
     "output_type": "stream",
     "text": [
      "\r",
      "  0%|          | 0/405 [00:00<?, ?it/s]\r",
      "  0%|          | 0/405 [00:00<?, ?it/s]\r",
      "  0%|          | 0/405 [00:00<?, ?it/s]\r",
      "  0%|          | 0/413 [00:00<?, ?it/s]"
     ]
    },
    {
     "name": "stdout",
     "output_type": "stream",
     "text": [
      "wtf\n",
      "wtf\n"
     ]
    },
    {
     "name": "stderr",
     "output_type": "stream",
     "text": [
      "\r",
      "  0%|          | 0/405 [00:00<?, ?it/s]\r",
      "  0%|          | 0/405 [00:00<?, ?it/s]"
     ]
    },
    {
     "name": "stdout",
     "output_type": "stream",
     "text": [
      "wtf\n",
      "wtf\n"
     ]
    },
    {
     "name": "stderr",
     "output_type": "stream",
     "text": [
      "\r",
      "  0%|          | 0/405 [00:00<?, ?it/s]Traceback (most recent call last):\n",
      "  File \"Patching.py\", line 56, in <module>\n",
      "    generate_patches(slidepath=args.wsi_dir,\n",
      "  File \"Patching.py\", line 39, in generate_patches\n",
      "    Slide = openslide.OpenSlide(slide_path)\n",
      "  File \"/home/harry/.local/lib/python3.8/site-packages/openslide/__init__.py\", line 166, in __init__\n",
      "    self._osr = lowlevel.open(str(filename))\n",
      "  File \"/home/harry/.local/lib/python3.8/site-packages/openslide/lowlevel.py\", line 199, in _check_open\n",
      "    raise OpenSlideError(err)\n",
      "openslide.lowlevel.OpenSlideError: Can't validate JPEG for directory 0: Expected marker at 4295026711, found none\n"
     ]
    },
    {
     "name": "stdout",
     "output_type": "stream",
     "text": [
      "wtf\n",
      "wtf\n"
     ]
    },
    {
     "name": "stderr",
     "output_type": "stream",
     "text": [
      "\r",
      "  0%|          | 0/405 [00:00<?, ?it/s]\r",
      "  0%|          | 0/413 [00:00<?, ?it/s]"
     ]
    },
    {
     "name": "stdout",
     "output_type": "stream",
     "text": [
      "wtf\n"
     ]
    },
    {
     "name": "stderr",
     "output_type": "stream",
     "text": [
      "\r",
      "  0%|          | 0/405 [00:00<?, ?it/s]"
     ]
    },
    {
     "name": "stdout",
     "output_type": "stream",
     "text": [
      "wtf\n"
     ]
    },
    {
     "name": "stderr",
     "output_type": "stream",
     "text": [
      " 28%|██▊       | 113/405 [32:56<1:01:53, 12.72s/it]  "
     ]
    }
   ],
   "source": [
    "if __name__ == '__main__':\n",
    "    # Get the list of image files\n",
    "    image_files = get_image_files()\n",
    "\n",
    "    # Number of processes to create (you can adjust this based on the number of CPU cores you want to utilize)\n",
    "    num_processes = multiprocessing.cpu_count()\n",
    "    num_processes = 16 # I could use 64 of them\n",
    "\n",
    "    # Create a pool of worker processes\n",
    "    pool = multiprocessing.Pool(processes=num_processes)\n",
    "\n",
    "    # Define the output folder for processed images (replace 'output_folder' with your desired folder name)\n",
    "    \n",
    "\n",
    "    # Use pool.starmap() to run the process_image function in parallel\n",
    "    pool.starmap(image_patching_function, [(image_dir[0], image_dir[1], image_dir[2]) for (image_dir) in image_files])\n",
    "\n",
    "    # Close the pool of worker processes\n",
    "    pool.close()\n",
    "    pool.join()\n",
    "\n",
    "    print(\"Image processing complete.\")\n"
   ]
  },
  {
   "cell_type": "code",
   "execution_count": null,
   "metadata": {},
   "outputs": [],
   "source": []
  },
  {
   "cell_type": "code",
   "execution_count": null,
   "metadata": {},
   "outputs": [],
   "source": []
  }
 ],
 "metadata": {
  "kernelspec": {
   "display_name": "Python 3 (ipykernel)",
   "language": "python",
   "name": "python3"
  },
  "language_info": {
   "codemirror_mode": {
    "name": "ipython",
    "version": 3
   },
   "file_extension": ".py",
   "mimetype": "text/x-python",
   "name": "python",
   "nbconvert_exporter": "python",
   "pygments_lexer": "ipython3",
   "version": "3.8.13"
  }
 },
 "nbformat": 4,
 "nbformat_minor": 4
}
